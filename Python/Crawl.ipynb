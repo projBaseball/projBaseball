{
 "cells": [
  {
   "cell_type": "code",
   "execution_count": null,
   "metadata": {
    "collapsed": false
   },
   "outputs": [],
   "source": [
    "from bs4 import BeautifulSoup\n",
    "import requests\n",
    "from selenium import webdriver\n",
    "import time\n",
    "import random\n",
    "from __future__ import print_function\n",
    "import pymysql"
   ]
  },
  {
   "cell_type": "code",
   "execution_count": null,
   "metadata": {
    "collapsed": true
   },
   "outputs": [],
   "source": [
    "html = \"<head></head><body><h1>hello</h1></body>\""
   ]
  },
  {
   "cell_type": "code",
   "execution_count": null,
   "metadata": {
    "collapsed": false
   },
   "outputs": [],
   "source": [
    "soup = BeautifulSoup(html)"
   ]
  },
  {
   "cell_type": "code",
   "execution_count": null,
   "metadata": {
    "collapsed": false
   },
   "outputs": [],
   "source": [
    "print soup.prettify()"
   ]
  },
  {
   "cell_type": "code",
   "execution_count": null,
   "metadata": {
    "collapsed": false
   },
   "outputs": [],
   "source": [
    "webCrawl = webdriver.Chrome(\"/Users/stories2/Python/chromedriver\")"
   ]
  },
  {
   "cell_type": "code",
   "execution_count": null,
   "metadata": {
    "collapsed": false
   },
   "outputs": [],
   "source": [
    "def ConnectToTargetUrl(url):\n",
    "    webCrawl.get(url)"
   ]
  },
  {
   "cell_type": "code",
   "execution_count": null,
   "metadata": {
    "collapsed": true
   },
   "outputs": [],
   "source": [
    "def GetPitcherTeamTag(webCrawlDriver):\n",
    "    return webCrawlDriver.find_element_by_id(\"cphContainer_cphContents_ddlPitcherTeam\")"
   ]
  },
  {
   "cell_type": "code",
   "execution_count": null,
   "metadata": {
    "collapsed": true
   },
   "outputs": [],
   "source": [
    "def GetPitcherTeamList(webCrawlDriver):\n",
    "    pitcherTeam = GetPitcherTeamTag(webCrawlDriver)\n",
    "    return [data for data in pitcherTeam.find_elements_by_tag_name(\"option\")]"
   ]
  },
  {
   "cell_type": "code",
   "execution_count": null,
   "metadata": {
    "collapsed": true
   },
   "outputs": [],
   "source": [
    "def GetPitcherNameTag(webCrawlDriver):\n",
    "    return webCrawlDriver.find_element_by_id(\"cphContainer_cphContents_ddlPitcherPlayer\")"
   ]
  },
  {
   "cell_type": "code",
   "execution_count": null,
   "metadata": {
    "collapsed": true
   },
   "outputs": [],
   "source": [
    "def GetPitcherNameList(webCrawlDriver):\n",
    "    pitcherName = GetPitcherNameTag(webCrawlDriver)\n",
    "    return [data for data in pitcherName.find_elements_by_tag_name(\"option\")]"
   ]
  },
  {
   "cell_type": "code",
   "execution_count": null,
   "metadata": {
    "collapsed": true
   },
   "outputs": [],
   "source": [
    "def GetHitterTeamTag(webCrawlDriver):\n",
    "    return webCrawlDriver.find_element_by_id(\"cphContainer_cphContents_ddlHitterTeam\")"
   ]
  },
  {
   "cell_type": "code",
   "execution_count": null,
   "metadata": {
    "collapsed": true
   },
   "outputs": [],
   "source": [
    "def GetHitterTeamList(webCrawlDriver):\n",
    "    hitterTeam = GetHitterTeamTag(webCrawlDriver)\n",
    "    return [data for data in hitterTeam.find_elements_by_tag_name(\"option\")]"
   ]
  },
  {
   "cell_type": "code",
   "execution_count": null,
   "metadata": {
    "collapsed": true
   },
   "outputs": [],
   "source": [
    "def GetHitterNameTag(webCrawlDriver):\n",
    "    return webCrawlDriver.find_element_by_id(\"cphContainer_cphContents_ddlHitterPlayer\")"
   ]
  },
  {
   "cell_type": "code",
   "execution_count": null,
   "metadata": {
    "collapsed": true
   },
   "outputs": [],
   "source": [
    "def GetHitterNameList(webCrawlDriver):\n",
    "    hitterName = GetHitterNameTag(webCrawlDriver)\n",
    "    return [data for data in hitterName.find_elements_by_tag_name(\"option\")]"
   ]
  },
  {
   "cell_type": "code",
   "execution_count": null,
   "metadata": {
    "collapsed": true
   },
   "outputs": [],
   "source": [
    "def GetSearchButton(webCrawlDriver):\n",
    "    return webCrawlDriver.find_element_by_id(\"cphContainer_cphContents_btnSearch\")"
   ]
  },
  {
   "cell_type": "code",
   "execution_count": null,
   "metadata": {
    "collapsed": false
   },
   "outputs": [],
   "source": [
    "def GetBaseBallDataTable(webCrawlDriver):\n",
    "    recordData = webCrawlDriver.find_element_by_id(\"cphContainer_cphContents_udpRecord\")\n",
    "    recordDataTable = recordData.find_element_by_tag_name(\"tbody\")\n",
    "    recordDataResult = recordDataTable.find_elements_by_tag_name(\"td\")\n",
    "    for data in recordDataResult:\n",
    "        print (data.text, end = ', ')\n",
    "    print (\"\")"
   ]
  },
  {
   "cell_type": "code",
   "execution_count": null,
   "metadata": {
    "collapsed": true
   },
   "outputs": [],
   "source": [
    "def ConnectToDBItReturnsConnector(hostDB, userId, userPw, targetDB, ):\n",
    "    return pymysql.connect(host = hostDB, user = userId, password = userPw, db = targetDB, charset = \"utf8\")"
   ]
  },
  {
   "cell_type": "code",
   "execution_count": null,
   "metadata": {
    "collapsed": true
   },
   "outputs": [],
   "source": [
    "def GetDBCursor(connectorOfDB):\n",
    "    return connectorOfDB.cursor()"
   ]
  },
  {
   "cell_type": "code",
   "execution_count": null,
   "metadata": {
    "collapsed": true
   },
   "outputs": [],
   "source": [
    "def ExecuteQuery(cursorOfDB, query):\n",
    "    cursorOfDB.execute(query)"
   ]
  },
  {
   "cell_type": "code",
   "execution_count": null,
   "metadata": {
    "collapsed": false
   },
   "outputs": [],
   "source": [
    "def InsertDataToDB(query):\n",
    "    connection = pymysql.connect(host = \"lamb.kangnam.ac.kr\", user = \"stories2\", password = \"toortoor%^%\", db = \"stories2\", charset = \"utf8\")\n",
    "    print(query)\n",
    "    #ExecuteQuery(GetDBCursor(connection), query)\n",
    "    connection.commit()\n",
    "    connection.close()\n",
    "    #\"insert into PitcherVSHitter value('test', 'test2', 0.0, 0, 0, 0, 0, 0, 0, 0, 0, 0, 0.0, 0.0, 0.0, 1, 1);\""
   ]
  },
  {
   "cell_type": "code",
   "execution_count": null,
   "metadata": {
    "collapsed": false
   },
   "outputs": [],
   "source": [
    "def GetPlayerRecordData(webCrawl):\n",
    "    recordData = webCrawl.find_element_by_id(\"cphContainer_cphContents_udpRecord\")\n",
    "    recordDataTable = recordData.find_element_by_tag_name(\"tbody\")\n",
    "    recordDataResult = recordDataTable.find_elements_by_tag_name(\"td\")\n",
    "    recordDataString = \"\"\n",
    "    cnt = 0\n",
    "    for data in recordDataResult:\n",
    "        if cnt == 0:\n",
    "            recordDataString = data.text\n",
    "        else:\n",
    "            recordDataString = recordDataString + \", \" + data.text\n",
    "        cnt += 1\n",
    "    if cnt == 1:\n",
    "        return \"fail\"\n",
    "    else:\n",
    "        return recordDataString"
   ]
  },
  {
   "cell_type": "code",
   "execution_count": null,
   "metadata": {
    "collapsed": false
   },
   "outputs": [],
   "source": [
    "#kbo 기록실 -> 투수 vs 타자 \n",
    "ConnectToTargetUrl(\"http://www.koreabaseball.com/Record/Etc/HitVsPit.aspx\")\n",
    "pitcherTeamListLength = len(GetPitcherTeamList(webCrawl))\n",
    "print (pitcherTeamListLength)"
   ]
  },
  {
   "cell_type": "code",
   "execution_count": null,
   "metadata": {
    "collapsed": false
   },
   "outputs": [],
   "source": [
    "print (GetPlayerRecordData(webCrawl))\n",
    "if GetPlayerRecordData(webCrawl) == \"fail\":\n",
    "    print (\"ok\")"
   ]
  },
  {
   "cell_type": "code",
   "execution_count": null,
   "metadata": {
    "collapsed": false
   },
   "outputs": [],
   "source": [
    "def GetBaseballData(webCrawl, pitcherTeamStartPoint, pitcherNameStartPoint, hitterTeamStartPoint, hitterNameStartPoint):\n",
    "    #투수: 두산 ~ kt\n",
    "    nowPitcherName = \"\"\n",
    "    nowHitterName = \"\"\n",
    "    nowPitcherTeam = \"\"\n",
    "    nowHitterTeam = \"\"\n",
    "    pitcherTeamListLength = len(GetPitcherTeamList(webCrawl))\n",
    "    for pitcherTeamIndex in range(pitcherTeamStartPoint, pitcherTeamListLength):\n",
    "        try:\n",
    "            pitcherTeamObj = GetPitcherTeamList(webCrawl)[pitcherTeamIndex]\n",
    "            nowPitcherTeam = pitcherTeamObj.text\n",
    "            print (\"-----pitcherTeam: \" + nowPitcherTeam + \"#\" + str(pitcherTeamIndex) + \" / \" + str(pitcherTeamListLength) +\"-----\")\n",
    "            pitcherTeamObj.click()\n",
    "            \n",
    "            pitcherNameListLength = len(GetPitcherNameList(webCrawl))\n",
    "            #각 팀에 속해있는 선수들 명단 만큼\n",
    "            for pitcherNameIndex in range(pitcherNameStartPoint, pitcherNameListLength):\n",
    "                try :            \n",
    "                    pitcherNameObj = GetPitcherNameList(webCrawl)[pitcherNameIndex]\n",
    "                    pitcherNameObj.click()\n",
    "                    nowPitcherName = pitcherNameObj.text\n",
    "#                    print (\"pitcher: \" + nowPitcherName + \" #\" + str(pitcherNameIndex) + \" / \" + str(pitcherNameListLength))\n",
    "                    \n",
    "                    hitterTeamListLength = len(GetHitterTeamList(webCrawl))\n",
    "                    #타자: 두산 ~ kt\n",
    "                    for hitterTeamIndex in range(hitterTeamStartPoint, hitterTeamListLength):\n",
    "                        try:\n",
    "                            hitterTeamObj = GetHitterTeamList(webCrawl)[hitterTeamIndex]#\n",
    "                            nowHitterTeam = hitterTeamObj.text\n",
    "                            print (\"-----hitterTeam: \" + nowHitterTeam + \"#\" + str(hitterTeamIndex) + \" / \" + str(hitterTeamListLength) +\"-----\")\n",
    "                            hitterTeamObj.click()\n",
    "                            \n",
    "                            hitterNameListLength = len(GetHitterNameList(webCrawl))\n",
    "                            #각 팀에 속해있는 선수들 명단 만큼\n",
    "                            for hitterNameIndex in range(hitterNameStartPoint, hitterNameListLength):\n",
    "                                try :\n",
    "                                    hitterNameObj = GetHitterNameList(webCrawl)[hitterNameIndex]\n",
    "                                    hitterNameObj.click()\n",
    "                                    nowHitterName = hitterNameObj.text\n",
    "#                                    print (\"hitter: \" + nowHitterName + \" #\" + str(hitterNameIndex) + \" / \" + str(hitterNameListLength))\n",
    "                                    print (nowPitcherName + \"(#\" + str(pitcherNameIndex) + \") vs \" + nowHitterName + \"(#\" + str(hitterNameIndex) + \")\")\n",
    "#                                    \n",
    "                                    try:\n",
    "                                        btnSearchResult = GetSearchButton(webCrawl)\n",
    "                                        btnSearchResult.click()\n",
    "                                        time.sleep(0.4)\n",
    "#                                        GetBaseBallDataTable(webCrawl)\n",
    "#                                        ConnectToTargetUrl(\"http://www.koreabaseball.com/Record/Etc/HitVsPit.aspx\")\n",
    "                                        recordData = GetPlayerRecordData(webCrawl)\n",
    "                                        #print (recordData)\n",
    "                                        sqlQuery = \"insert into PitcherVSHitter value('\" + nowPitcherName +\"', '\" + nowHitterName + \"',\"\n",
    "                                        if recordData != \"fail\":\n",
    "                                            sqlQuery = sqlQuery + recordData + \", 1, 0, '\" + nowPitcherTeam + \"', '\" + nowHitterTeam + \"');\"\n",
    "                                            #print (sqlQuery)\n",
    "                                        else:\n",
    "                                            sqlQuery = sqlQuery + \"0.0, 0, 0, 0, 0, 0, 0, 0, 0, 0, 0, 0.0, 0.0, 0.0, 0, 1, '\" + nowPitcherTeam + \"', '\" + nowHitterTeam + \"');\"\n",
    "                                        #print(\"SendQuery\", sqlQuery)\n",
    "                                        InsertDataToDB(sqlQuery)\n",
    "                                    except:\n",
    "                                        print (\"except search endPoint: \", str(pitcherTeamIndex), str(pitcherNameIndex), str(hitterTeamIndex), str(hitterNameIndex))\n",
    "                                except:\n",
    "                                    print (\"except hitter player\")\n",
    "                        except:\n",
    "                            print (\"except hitter team\")\n",
    "                except:\n",
    "                    print (\"except pitcher player\")\n",
    "        except:\n",
    "            print (\"except pitcher team\")"
   ]
  },
  {
   "cell_type": "code",
   "execution_count": null,
   "metadata": {
    "collapsed": true
   },
   "outputs": [],
   "source": []
  },
  {
   "cell_type": "code",
   "execution_count": null,
   "metadata": {
    "collapsed": false
   },
   "outputs": [],
   "source": [
    "GetBaseballData(webCrawl, 1, 1, 1, 1)"
   ]
  },
  {
   "cell_type": "code",
   "execution_count": null,
   "metadata": {
    "collapsed": false
   },
   "outputs": [],
   "source": []
  },
  {
   "cell_type": "code",
   "execution_count": null,
   "metadata": {
    "collapsed": true
   },
   "outputs": [],
   "source": []
  },
  {
   "cell_type": "code",
   "execution_count": null,
   "metadata": {
    "collapsed": false
   },
   "outputs": [],
   "source": [
    "\n",
    "#for pitcherTeamIndex in range(1, len(pitcherOptions)):\n",
    "#    print pitcherOptions[pitcherTeamIndex].text#get_attribute(\"value\")\n",
    "#    \n",
    "#    #검색할 투수 팀을 고른다\n",
    "#    pitcherOptions[pitcherTeamIndex].click()\n",
    "#\n",
    "#    time.sleep(random.randrange(1, 3))\n",
    "#    #검색한 투수 팀에 속해있는 투수들의 리스트를 불러온다\n",
    "#    pitcherNameList = webCrawl.find_element_by_id(\"cphContainer_cphContents_ddlPitcherPlayer\")\n",
    "#    pitcherNameListOptions = [data for data in pitcherNameList.find_elements_by_tag_name(\"option\")]\n",
    "#    \n",
    "#    for pitcherNameIndex in range(1, len(pitcherNameListOptions)) :\n",
    "#        try:\n",
    "#            print pitcherNameListOptions[pitcherNameIndex].text#get_attribute(\"value\")\n",
    "#        except:\n",
    "#            print \"pitcherNameList #\" + str(pitcherNameIndex) + \" has Error\"\n",
    "        \n",
    "    \n",
    "    #for hitterTeamIndex in range(1, 2):\n",
    "    #    print hitterOptions[hitterTeamIndex].get_attribute(\"value\")\n",
    "#for ele in pitcherOptions:\n",
    "#    print ele.get_attribute(\"value\")"
   ]
  },
  {
   "cell_type": "code",
   "execution_count": null,
   "metadata": {
    "collapsed": true
   },
   "outputs": [],
   "source": [
    "#cphContainer_cphContents_btnSearch"
   ]
  }
 ],
 "metadata": {
  "kernelspec": {
   "display_name": "Python 2",
   "language": "python",
   "name": "python2"
  },
  "language_info": {
   "codemirror_mode": {
    "name": "ipython",
    "version": 2
   },
   "file_extension": ".py",
   "mimetype": "text/x-python",
   "name": "python",
   "nbconvert_exporter": "python",
   "pygments_lexer": "ipython2",
   "version": "2.7.10"
  }
 },
 "nbformat": 4,
 "nbformat_minor": 1
}
