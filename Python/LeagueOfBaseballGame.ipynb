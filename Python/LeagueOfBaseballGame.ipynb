{
 "cells": [
  {
   "cell_type": "markdown",
   "metadata": {},
   "source": [
    "# 사용할 데이터베이스 SQL 로그"
   ]
  },
  {
   "cell_type": "markdown",
   "metadata": {},
   "source": [
    "create table TeamVSTeam (`경기 일자` timestamp, `플레이한 팀1 이름` varchar (20), `플레이한 팀2 이름` varchar(20), `플레이한 팀1 점수` int, `플레이한 팀2 점수` int, `경기 기록 링크` text, `중계한 TV 채널` varchar(100), `중계한 라디오 채널` varchar(100), `플레이 구장` varchar(25), `비고` varchar(200), PRIMARY KEY(`경기 일자`, `플레이한 팀1 이름`, `플레이한 팀2 이름`));\n",
    "\n",
    "alter table TeamVSTeam MODIFY `플레이한 팀1 점수` int DEFAULT -1;\n",
    "\n",
    "alter table TeamVSTeam MODIFY `플레이한 팀2 점수` int DEFAULT -1;\n",
    "\n",
    "alter table TeamVSTeam MODIFY `경기 기록 링크` varchar(1000) DEFAULT \"N/A\";\n",
    "\n",
    "alter table TeamVSTeam MODIFY `중계한 TV 채널` varchar(200) DEFAULT 'N/A';\n",
    "\n",
    "alter table TeamVSTeam MODIFY `중계한 라디오 채널` varchar(200) DEFAULT 'N/A';\n",
    "\n",
    "alter table TeamVSTeam MODIFY `플레이 구장` varchar(25) DEFAULT 'N/A';\n",
    "\n",
    "alter table TeamVSTeam MODIFY `비고` varchar(50) DEFAULT 'N/A';"
   ]
  },
  {
   "cell_type": "markdown",
   "metadata": {},
   "source": [
    "# 사용할 모듈을 임포트"
   ]
  },
  {
   "cell_type": "code",
   "execution_count": null,
   "metadata": {
    "collapsed": true
   },
   "outputs": [],
   "source": [
    "from bs4 import BeautifulSoup\n",
    "import requests\n",
    "from selenium import webdriver\n",
    "import time\n",
    "import random\n",
    "#from __future__ import print_function\n",
    "import pymysql"
   ]
  },
  {
   "cell_type": "markdown",
   "metadata": {},
   "source": [
    "# 크롬 드라이버를 이용한 웹 크롤링 준비"
   ]
  },
  {
   "cell_type": "code",
   "execution_count": null,
   "metadata": {
    "collapsed": true
   },
   "outputs": [],
   "source": [
    "webCrawl = webdriver.Chrome(\"/Users/stories2/Python/chromedriver\")"
   ]
  },
  {
   "cell_type": "markdown",
   "metadata": {},
   "source": [
    "# 사용할 selenium 함수를 재정의"
   ]
  },
  {
   "cell_type": "code",
   "execution_count": null,
   "metadata": {
    "collapsed": true
   },
   "outputs": [],
   "source": [
    "def ConnectToTargetUrl(url):\n",
    "    webCrawl.get(url)"
   ]
  },
  {
   "cell_type": "code",
   "execution_count": null,
   "metadata": {
    "collapsed": true
   },
   "outputs": [],
   "source": [
    "def GetSpecialTagData(tagName, webCrawl):\n",
    "    return webCrawl.find_element_by_tag_name(tagName)"
   ]
  },
  {
   "cell_type": "code",
   "execution_count": null,
   "metadata": {
    "collapsed": true
   },
   "outputs": [],
   "source": [
    "def GetSpecialIdData(idName, webCrawl):\n",
    "    return webCrawl.find_element_by_id(idName)"
   ]
  },
  {
   "cell_type": "code",
   "execution_count": null,
   "metadata": {
    "collapsed": true
   },
   "outputs": [],
   "source": [
    "def GetSpecialClassData(className, webCrawl):\n",
    "    return webCrawl.find_element_by_class_name(className)"
   ]
  },
  {
   "cell_type": "code",
   "execution_count": null,
   "metadata": {
    "collapsed": true
   },
   "outputs": [],
   "source": [
    "def GetSpecialXPathData(XPath, webCrawl):\n",
    "    return webCrawl.find_element_by_xpath(XPath)"
   ]
  },
  {
   "cell_type": "code",
   "execution_count": null,
   "metadata": {
    "collapsed": true
   },
   "outputs": [],
   "source": [
    "def GetSpecialTagDatas(tagName, webCrawl):\n",
    "    return webCrawl.find_elements_by_tag_name(tagName)"
   ]
  },
  {
   "cell_type": "code",
   "execution_count": null,
   "metadata": {
    "collapsed": true
   },
   "outputs": [],
   "source": [
    "def GetSpecialIdDatas(idName, webCrawl):\n",
    "    return webCrawl.find_elements_by_id(idName)"
   ]
  },
  {
   "cell_type": "code",
   "execution_count": null,
   "metadata": {
    "collapsed": true
   },
   "outputs": [],
   "source": [
    "def GetSpecialClassDatas(className, webCrawl):\n",
    "    return webCrawl.find_elements_by_class_name(className)"
   ]
  },
  {
   "cell_type": "code",
   "execution_count": null,
   "metadata": {
    "collapsed": true
   },
   "outputs": [],
   "source": [
    "def GetSpecialXPathDatas(XPath, webCrawl):\n",
    "    return webCrawl.find_elements_by_xpath(XPath)"
   ]
  },
  {
   "cell_type": "markdown",
   "metadata": {},
   "source": [
    "# 데이터베이스 연동 부분"
   ]
  },
  {
   "cell_type": "code",
   "execution_count": null,
   "metadata": {
    "collapsed": true
   },
   "outputs": [],
   "source": [
    "def GetDBCursor(connectorOfDB):\n",
    "    return connectorOfDB.cursor()"
   ]
  },
  {
   "cell_type": "code",
   "execution_count": null,
   "metadata": {
    "collapsed": true
   },
   "outputs": [],
   "source": [
    "def ExecuteQuery(cursorOfDB, query):\n",
    "    cursorOfDB.execute(query)"
   ]
  },
  {
   "cell_type": "code",
   "execution_count": null,
   "metadata": {
    "collapsed": true
   },
   "outputs": [],
   "source": [
    "def InsertDataToDB(query):\n",
    "    connection = pymysql.connect(host = \"lamb.kangnam.ac.kr\", user = \"stories2\", password = \"toortoor%^%\", db = \"stories2\", charset = \"utf8\")\n",
    "    #print(query)\n",
    "    ExecuteQuery(GetDBCursor(connection), query)\n",
    "    connection.commit()\n",
    "    connection.close()"
   ]
  },
  {
   "cell_type": "code",
   "execution_count": null,
   "metadata": {
    "collapsed": true
   },
   "outputs": [],
   "source": [
    "def MakeQueryWithParameter(dateTime, teams, score, link, tv, radio, place, etc):\n",
    "    return \"insert into TeamVSTeam value('\" + dateTime + \"', \" + teams + \", \" + score + \", \" + link + \", \" + tv + \", \" + radio + \", \" + place + \", \" + etc + \");\""
   ]
  },
  {
   "cell_type": "markdown",
   "metadata": {
    "collapsed": true
   },
   "source": [
    "# 실제 웹 데이터에서 필요한 특정 정보를 가져오는 부분"
   ]
  },
  {
   "cell_type": "markdown",
   "metadata": {},
   "source": [
    "전 년/월 경기를 로드할 버튼"
   ]
  },
  {
   "cell_type": "code",
   "execution_count": null,
   "metadata": {
    "collapsed": true
   },
   "outputs": [],
   "source": [
    "def GetPreviewsBaseballGameData(webCrawl):\n",
    "    return GetSpecialIdData(\"cphContainer_cphContents_btnPreDate\", webCrawl);"
   ]
  },
  {
   "cell_type": "markdown",
   "metadata": {},
   "source": [
    "로드하는 해당 버튼을 클릭"
   ]
  },
  {
   "cell_type": "code",
   "execution_count": null,
   "metadata": {
    "collapsed": true
   },
   "outputs": [],
   "source": [
    "def GetPreviewsBaseballGameDataClick(webCrawl):\n",
    "    GetPreviewsBaseballGameData(webCrawl).click();\n",
    "    time.sleep(0.5)"
   ]
  },
  {
   "cell_type": "markdown",
   "metadata": {},
   "source": [
    "로드된 년/월에 대한 정보를 가져옴\n",
    "\n",
    "디폴트 리턴 값: 0000-00\n",
    "\n",
    "업데이트된 리턴 값: 2016-10"
   ]
  },
  {
   "cell_type": "code",
   "execution_count": null,
   "metadata": {
    "collapsed": true
   },
   "outputs": [],
   "source": [
    "def GetNowSearchedDate(webCrawl):\n",
    "    selectedYear = \"0000\"\n",
    "    selectedMonth = \"00\"\n",
    "    \n",
    "    webCrawlGetSelectYearOptions = GetSpecialIdData(\"cphContainer_cphContents_ddlYear\", webCrawl)\n",
    "    webCrawlGetSelectMonthOptions = GetSpecialIdData(\"cphContainer_cphContents_ddlMonth\", webCrawl)\n",
    "    \n",
    "    selectedYear = GetSpecialXPathData(\"./option[@selected='selected']\", webCrawlGetSelectYearOptions).text.encode('utf-8')\n",
    "    selectedMonth = GetSpecialXPathData(\"./option[@selected='selected']\", webCrawlGetSelectMonthOptions).text.encode('utf-8')\n",
    "    \n",
    "    selectedYear = selectedYear.replace(\"년\", \"\")\n",
    "    selectedMonth = selectedMonth.replace(\"월\", \"\")\n",
    "    return selectedYear + \"-\" + selectedMonth"
   ]
  },
  {
   "cell_type": "markdown",
   "metadata": {},
   "source": [
    "로드된 해당 년/월에 대한 경기 이력들 가져오기\n",
    "\n",
    "여러개의 tr태그들이 리턴됨"
   ]
  },
  {
   "cell_type": "code",
   "execution_count": null,
   "metadata": {
    "collapsed": true
   },
   "outputs": [],
   "source": [
    "def GetSearchedScheduleBoardList(webCrawl):\n",
    "    webCrawlScheduleBoard = GetSpecialClassData(\"scheduleBoard\", webCrawl)\n",
    "    webCrawlScheduleBoardBody = GetSpecialTagData(\"tbody\", webCrawlScheduleBoard)\n",
    "    return GetSpecialTagDatas(\"tr\", webCrawlScheduleBoardBody)"
   ]
  },
  {
   "cell_type": "markdown",
   "metadata": {},
   "source": [
    "## 각 tr태그 마다 적용할 내용들"
   ]
  },
  {
   "cell_type": "markdown",
   "metadata": {},
   "source": [
    "tr 태그 밑에 속한 td 태그들을 크롤링함\n",
    "\n",
    "여러개의 td태그들이 리턴됨"
   ]
  },
  {
   "cell_type": "code",
   "execution_count": null,
   "metadata": {
    "collapsed": true
   },
   "outputs": [],
   "source": [
    "def GetSearchedScheduleTagOfTD(webCrawl):\n",
    "    return GetSpecialTagDatas(\"td\", webCrawl)"
   ]
  },
  {
   "cell_type": "markdown",
   "metadata": {},
   "source": [
    "경기 시작 시간을 조회\n",
    "\n",
    "기본 값: 00:00\n",
    "\n",
    "업데이트된 값: 17:00"
   ]
  },
  {
   "cell_type": "code",
   "execution_count": null,
   "metadata": {
    "collapsed": true
   },
   "outputs": [],
   "source": [
    "def GetBaseballPlayedTime(webCrawl):\n",
    "    baseballGamePlayedTime = \"00:00\"\n",
    "    try:\n",
    "        #print GetSpecialClassData(\"time\", webCrawl)\n",
    "        #print GetSpecialXPathData(\"./td[@class='time']\", webCrawl)\n",
    "        #print \"debug \" + str(baseballGamePlayedTime)\n",
    "        #print webCrawl.find_element_b(\"time\").text\n",
    "        baseballGamePlayedTime = GetSpecialClassData(\"time\", webCrawl).text\n",
    "    except:\n",
    "        baseballGamePlayedTime = \"00:00\"\n",
    "    return baseballGamePlayedTime"
   ]
  },
  {
   "cell_type": "markdown",
   "metadata": {},
   "source": [
    "날짜를 조회\n",
    "\n",
    "기본 값: 00\n",
    "\n",
    "업데이트된 값: 01"
   ]
  },
  {
   "cell_type": "code",
   "execution_count": null,
   "metadata": {
    "collapsed": true
   },
   "outputs": [],
   "source": [
    "def GetBaseballPlayedDate(webCrawl):\n",
    "    baseballGamePlayedDate = \"00\"\n",
    "    try:\n",
    "        webCrawlBaseballPlayedDateClass = GetSpecialClassData(\"day\", webCrawl)\n",
    "        baseballGamePlayedDate = GetSpecialTagData(\"span\", webCrawlBaseballPlayedDateClass).text\n",
    "        baseballGamePlayedDate = baseballGamePlayedDate[3:5]\n",
    "    except:\n",
    "        baseballGamePlayedDate = \"00\"\n",
    "    return baseballGamePlayedDate"
   ]
  },
  {
   "cell_type": "markdown",
   "metadata": {},
   "source": [
    "플래이한 팀의 이름을 가져옴\n",
    "\n",
    "기본 값: 'N/A', 'N/A'\n",
    "\n",
    "업데이트된 값: 'SK', 'LG'"
   ]
  },
  {
   "cell_type": "code",
   "execution_count": null,
   "metadata": {
    "collapsed": true
   },
   "outputs": [],
   "source": [
    "def GetBaseballPlayedTeamsName(webCrawl):\n",
    "    baseballGamePlayedTeamsName = \"'N/A', 'N/A'\"\n",
    "    try:\n",
    "        webCrawlBaseballPlayedTeamsClass = GetSpecialClassData(\"play\", webCrawl)\n",
    "        webCrawlBaseballPlayedTeamsTags = GetSpecialTagDatas(\"span\", webCrawlBaseballPlayedTeamsClass)\n",
    "        baseballGamePlayedTeamsName = \"'\" + webCrawlBaseballPlayedTeamsTags[0].text + \"', '\" + webCrawlBaseballPlayedTeamsTags[len(webCrawlBaseballPlayedTeamsTags) - 1].text + \"'\"\n",
    "    except:\n",
    "        baseballGamePlayedTeamsName = \"'N/A', 'N/A'\"\n",
    "    return baseballGamePlayedTeamsName"
   ]
  },
  {
   "cell_type": "markdown",
   "metadata": {},
   "source": [
    "플래이한 경기 결과를 가져옴\n",
    "\n",
    "기본 값: -1, -1\n",
    "\n",
    "업데이트된 값: 5, 0"
   ]
  },
  {
   "cell_type": "code",
   "execution_count": null,
   "metadata": {
    "collapsed": true
   },
   "outputs": [],
   "source": [
    "def GetBaseballPlayedScore(webCrawl):\n",
    "    baseballGamePlayedScore = \"-1, -1\"\n",
    "    try:\n",
    "        webCrawlBaseballPlayedScoreClass = GetSpecialClassData(\"play\", webCrawl)\n",
    "        webCrawlBaseballPlayedScoreTags = GetSpecialTagDatas(\"span\", webCrawlBaseballPlayedScoreClass)\n",
    "        if len(webCrawlBaseballPlayedScoreTags) < 5:\n",
    "            return baseballGamePlayedScore\n",
    "        baseballGamePlayedScore = webCrawlBaseballPlayedScoreTags[1].text + \", \"+ webCrawlBaseballPlayedScoreTags[3].text\n",
    "    except:\n",
    "        baseballGamePlayedScore = \"-1, -1\"\n",
    "    return baseballGamePlayedScore"
   ]
  },
  {
   "cell_type": "markdown",
   "metadata": {},
   "source": [
    "경기 세부 기록 링크\n",
    "\n",
    "기본 값: 'N/A'\n",
    "\n",
    "업데이트된 값: 'http://~~~'"
   ]
  },
  {
   "cell_type": "code",
   "execution_count": null,
   "metadata": {
    "collapsed": true
   },
   "outputs": [],
   "source": [
    "def GetBaseballGameDetailLink(webCrawl):\n",
    "    baseballGameDetailLink = \"'N/A'\"\n",
    "    try:\n",
    "        webCrawlBaseballGameDetailLinkClass = GetSpecialClassData(\"relay\", webCrawl)\n",
    "        webCrawlBaseballGameDetailLinkTag = GetSpecialTagData(\"a\", webCrawlBaseballGameDetailLinkClass)\n",
    "        baseballGameDetailLink = \"'\" + webCrawlBaseballGameDetailLinkTag.get_attribute(\"href\") + \"'\"\n",
    "    except:\n",
    "        baseballGameDetailLink = \"'N/A'\"\n",
    "    return baseballGameDetailLink"
   ]
  },
  {
   "cell_type": "markdown",
   "metadata": {},
   "source": [
    "중계한 TV 채널\n",
    "\n",
    "기본 값: 'N/A'\n",
    "\n",
    "업데이트된 값: 'MS-T SKY-T'"
   ]
  },
  {
   "cell_type": "code",
   "execution_count": null,
   "metadata": {
    "collapsed": false
   },
   "outputs": [],
   "source": [
    "def GetBaseballBroadcastTV(webCrawl):\n",
    "    baseballGameBroadcastTV = \"'N/A'\"\n",
    "    try:\n",
    "        webCrawlBaseballGameBroadcastTVClass = GetSpecialClassData(\"tv\", webCrawl)\n",
    "        baseballGameBroadcastTV = webCrawlBaseballGameBroadcastTVClass.text\n",
    "        baseballGameBroadcastTV.replace(\"\\\"\", \"\")\n",
    "        baseballGameBroadcastTV.replace(\"<br>\", \" \")\n",
    "        if baseballGameBroadcastTV == \"\" or baseballGameBroadcastTV == \" \":\n",
    "            baseballGameBroadcastTV = \"'N/A'\"\n",
    "        else:\n",
    "            baseballGameBroadcastTV = \"'\" + baseballGameBroadcastTV + \"'\"\n",
    "    except:\n",
    "        baseballGameBroadcastTV = \"'N/A'\"\n",
    "    return baseballGameBroadcastTV"
   ]
  },
  {
   "cell_type": "markdown",
   "metadata": {},
   "source": [
    "중계한 라디오 채널\n",
    "\n",
    "기본 값: 'N/A'\n",
    "\n",
    "업데이트된 값: 'KNN-R PM-R'"
   ]
  },
  {
   "cell_type": "code",
   "execution_count": null,
   "metadata": {
    "collapsed": false
   },
   "outputs": [],
   "source": [
    "def GetBaseballBroadcastRadio(webCrawl):\n",
    "    baseballGameBroadcastRadio = \"'N/A'\"\n",
    "    try:\n",
    "        webCrawlBaseballGameBroadcastRadioClass = GetSpecialClassData(\"radio\", webCrawl)\n",
    "        baseballGameBroadcastRadio = webCrawlBaseballGameBroadcastRadioClass.text\n",
    "        baseballGameBroadcastRadio.replace(\"\\\"\", \"\")\n",
    "        baseballGameBroadcastRadio.replace(\"<br>\", \" \")\n",
    "        if baseballGameBroadcastRadio == \"\" or baseballGameBroadcastRadio == \" \":\n",
    "            baseballGameBroadcastRadio = \"'N/A'\"\n",
    "        else:\n",
    "            baseballGameBroadcastRadio = \"'\" + baseballGameBroadcastRadio + \"'\"\n",
    "    except:\n",
    "        baseballGameBroadcastRadio = \"'N/A'\"\n",
    "    return baseballGameBroadcastRadio"
   ]
  },
  {
   "cell_type": "markdown",
   "metadata": {},
   "source": [
    "플레이한 구장\n",
    "\n",
    "기본 값: 'N/A'\n",
    "\n",
    "업데이트된 값: '잠실'"
   ]
  },
  {
   "cell_type": "code",
   "execution_count": null,
   "metadata": {
    "collapsed": true
   },
   "outputs": [],
   "source": [
    "def GetBaseballPlayedPlace(webCrawl):\n",
    "    baseballGamePlayedPlace = \"'N/A'\"\n",
    "    try:\n",
    "        webCrawlBaseballGamePlayedPlaceClass = GetSpecialClassData(\"ballpark\", webCrawl)\n",
    "        baseballGamePlayedPlace = webCrawlBaseballGamePlayedPlaceClass.text\n",
    "        baseballGamePlayedPlace = \"'\" + baseballGamePlayedPlace + \"'\"\n",
    "    except:\n",
    "        baseballGamePlayedPlace = \"'N/A'\"\n",
    "    return baseballGamePlayedPlace"
   ]
  },
  {
   "cell_type": "markdown",
   "metadata": {},
   "source": [
    "비고\n",
    "\n",
    "기본 값: 'N/A'\n",
    "\n",
    "업데이트된 값: '-'"
   ]
  },
  {
   "cell_type": "code",
   "execution_count": null,
   "metadata": {
    "collapsed": true
   },
   "outputs": [],
   "source": [
    "def GetBaseballPlayedEtc(webCrawl):\n",
    "    baseballGamePlayedEtc = \"'N/A'\"\n",
    "    try:\n",
    "        webCrawlBaseballGamePlayedEtcClass = GetSpecialClassData(\"etc\", webCrawl)\n",
    "        baseballGamePlayedEtc = webCrawlBaseballGamePlayedEtcClass.text\n",
    "        baseballGamePlayedEtc = \"'\" + baseballGamePlayedEtc + \"'\"\n",
    "    except:\n",
    "        baseballGamePlayedEtc = \"'N/A'\"\n",
    "    return baseballGamePlayedEtc"
   ]
  },
  {
   "cell_type": "markdown",
   "metadata": {},
   "source": [
    "# 크롤링을 위한 실제 코딩 파트"
   ]
  },
  {
   "cell_type": "markdown",
   "metadata": {},
   "source": [
    "크롤링할 타겟 링크를 설정 ex) kbo정규 시즌 경기 결과표"
   ]
  },
  {
   "cell_type": "code",
   "execution_count": null,
   "metadata": {
    "collapsed": true
   },
   "outputs": [],
   "source": [
    "ConnectToTargetUrl(\"http://www.koreabaseball.com/Schedule/GameList/General.aspx\")"
   ]
  },
  {
   "cell_type": "code",
   "execution_count": null,
   "metadata": {
    "collapsed": false
   },
   "outputs": [],
   "source": [
    "print GetNowSearchedDate(webCrawl)"
   ]
  },
  {
   "cell_type": "markdown",
   "metadata": {},
   "source": [
    "# 프로세싱 규칙\n",
    "## 한번 쭉 긁어온 다음 다 긁었으면 전 년/월 조회 클릭"
   ]
  },
  {
   "cell_type": "code",
   "execution_count": null,
   "metadata": {
    "collapsed": false
   },
   "outputs": [],
   "source": [
    "def CrawlDataFromTargetPage(webCrawl):\n",
    "    scheduleData = GetSearchedScheduleBoardList(webCrawl)\n",
    "    nowSearchingDate = GetNowSearchedDate(webCrawl)\n",
    "\n",
    "    baseballPlayedDate = \"00\"\n",
    "    baseballPlayedTime = \"00:00\"\n",
    "    baseballPlayedTeams = \"\"\n",
    "    baseballPlayedScore = \"\"\n",
    "    baseballGameDetailLink = \"\"\n",
    "    baseballBroadcastTV = \"\"\n",
    "    baseballBroadcastRadio = \"\"\n",
    "    baseballPlayedPlace = \"\"\n",
    "    baseballPlayedEtc = \"\"\n",
    "    crawledDate = \"\"\n",
    "    tempToCompare = \"\"\n",
    "    sqlQuery = \"\"\n",
    "\n",
    "    for index in scheduleData:\n",
    "        #print index\n",
    "        print \"\"\n",
    "    \n",
    "        tempToCompare = GetBaseballPlayedDate(index)\n",
    "        if tempToCompare != \"00\":\n",
    "            baseballPlayedDate = tempToCompare\n",
    "        tempToCompare = GetBaseballPlayedTime(index)\n",
    "        if tempToCompare != \"00:00\":\n",
    "            baseballPlayedTime = tempToCompare\n",
    "        else:\n",
    "            baseballPlayedTime = \"00:00\"\n",
    "        #print nowSearchingDate + \"-\" + baseballPlayedDate + \" \" + baseballPlayedTime + \":00\"\n",
    "        baseballPlayedTeams = GetBaseballPlayedTeamsName(index)\n",
    "        baseballPlayedScore = GetBaseballPlayedScore(index)\n",
    "        baseballGameDetailLink = GetBaseballGameDetailLink(index)\n",
    "        baseballBroadcastTV = GetBaseballBroadcastTV(index)\n",
    "        baseballBroadcastRadio = GetBaseballBroadcastRadio(index)\n",
    "        baseballPlayedPlace = GetBaseballPlayedPlace(index)\n",
    "        baseballPlayedEtc = GetBaseballPlayedEtc(index)\n",
    "        crawledDate = nowSearchingDate + \"-\" + baseballPlayedDate + \" \" + baseballPlayedTime + \":00\"\n",
    "        sqlQuery = MakeQueryWithParameter(crawledDate,\n",
    "                                    baseballPlayedTeams, baseballPlayedScore, baseballGameDetailLink, \n",
    "                                    baseballBroadcastTV, baseballBroadcastRadio, baseballPlayedPlace, baseballPlayedEtc)\n",
    "        print sqlQuery\n",
    "        InsertDataToDB(sqlQuery)\n",
    "        #break\n",
    "    #return crawledDate"
   ]
  },
  {
   "cell_type": "code",
   "execution_count": null,
   "metadata": {
    "collapsed": false
   },
   "outputs": [],
   "source": [
    "while(1):\n",
    "    try:\n",
    "        CrawlDataFromTargetPage(webCrawl)\n",
    "        try:\n",
    "            GetPreviewsBaseballGameDataClick(webCrawl)\n",
    "        except:\n",
    "            print \"It Seems Process Is Done\"\n",
    "            break;\n",
    "    except:\n",
    "        print \"Exception Noticed\""
   ]
  },
  {
   "cell_type": "code",
   "execution_count": null,
   "metadata": {
    "collapsed": true
   },
   "outputs": [],
   "source": []
  }
 ],
 "metadata": {
  "kernelspec": {
   "display_name": "Python 2",
   "language": "python",
   "name": "python2"
  },
  "language_info": {
   "codemirror_mode": {
    "name": "ipython",
    "version": 2
   },
   "file_extension": ".py",
   "mimetype": "text/x-python",
   "name": "python",
   "nbconvert_exporter": "python",
   "pygments_lexer": "ipython2",
   "version": "2.7.10"
  }
 },
 "nbformat": 4,
 "nbformat_minor": 1
}
